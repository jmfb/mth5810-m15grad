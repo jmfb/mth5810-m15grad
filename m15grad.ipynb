{
 "cells": [
  {
   "cell_type": "markdown",
   "id": "05df75fb-e6b7-4f08-9fcb-602f8b6488a1",
   "metadata": {},
   "source": [
    "# Module 15 - Gradient Descent\n",
    "**Author** - Jacob Buysse\n",
    "\n",
    "* This notebook will explore the math behind Gradient Descent with the application of Linear Regression.\n",
    "* We will be training a model to predict the house price given some spatial features of the house.\n",
    "* We will compare several learning rates\n",
    "* We will compare the performance of our algorithm to the public libraries.\n",
    "\n",
    "In this notebook we will be using the following libraries:"
   ]
  },
  {
   "cell_type": "code",
   "execution_count": 1,
   "id": "328175fb-7a8a-4192-b85e-10a956cbf47c",
   "metadata": {},
   "outputs": [],
   "source": [
    "import numpy as np\n",
    "import pandas as pd\n",
    "import matplotlib\n",
    "import matplotlib as plt\n",
    "import seaborn as sns"
   ]
  },
  {
   "cell_type": "markdown",
   "id": "eee6b67c-7304-4a04-9f39-d7d8bbb12afc",
   "metadata": {},
   "source": [
    "Let us configure our graphs for font size, high DPI, and automatic layout."
   ]
  },
  {
   "cell_type": "code",
   "execution_count": 2,
   "id": "4289b777-dfe1-4cc6-95fa-c6f4678ab2cf",
   "metadata": {},
   "outputs": [],
   "source": [
    "matplotlib.rc('axes', labelsize=16)\n",
    "matplotlib.rc('figure', dpi=150, autolayout=True)"
   ]
  },
  {
   "cell_type": "markdown",
   "id": "df5c6e85-b3d2-437b-91f5-b0c139cf702e",
   "metadata": {},
   "source": [
    "## Dataset\n",
    "\n",
    "TODO: Load the real dataset"
   ]
  },
  {
   "cell_type": "code",
   "execution_count": null,
   "id": "86f3f3a3-b94a-49d0-bdfe-af260aeb7b9f",
   "metadata": {},
   "outputs": [],
   "source": []
  }
 ],
 "metadata": {
  "kernelspec": {
   "display_name": "Python 3 (ipykernel)",
   "language": "python",
   "name": "python3"
  },
  "language_info": {
   "codemirror_mode": {
    "name": "ipython",
    "version": 3
   },
   "file_extension": ".py",
   "mimetype": "text/x-python",
   "name": "python",
   "nbconvert_exporter": "python",
   "pygments_lexer": "ipython3",
   "version": "3.12.5"
  }
 },
 "nbformat": 4,
 "nbformat_minor": 5
}
