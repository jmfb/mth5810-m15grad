{
 "cells": [
  {
   "cell_type": "markdown",
   "id": "05df75fb-e6b7-4f08-9fcb-602f8b6488a1",
   "metadata": {},
   "source": [
    "# Module 15 - Gradient Descent\n",
    "**Author** - Jacob Buysse\n",
    "\n",
    "* This notebook will explore the math behind Gradient Descent with the application of Linear Regression.\n",
    "* We will be training a model to predict the house price given some spatial features of the house.\n",
    "* We will compare several learning rates\n",
    "* We will compare the performance of our algorithm to the public libraries.\n",
    "\n",
    "In this notebook we will be using the following libraries:"
   ]
  },
  {
   "cell_type": "code",
   "execution_count": 121,
   "id": "328175fb-7a8a-4192-b85e-10a956cbf47c",
   "metadata": {},
   "outputs": [],
   "source": [
    "import numpy as np\n",
    "import pandas as pd\n",
    "import matplotlib\n",
    "import matplotlib as plt\n",
    "import seaborn as sns\n",
    "from sklearn.linear_model import LinearRegression"
   ]
  },
  {
   "cell_type": "markdown",
   "id": "eee6b67c-7304-4a04-9f39-d7d8bbb12afc",
   "metadata": {},
   "source": [
    "Let us configure our graphs for font size, high DPI, and automatic layout."
   ]
  },
  {
   "cell_type": "code",
   "execution_count": 2,
   "id": "4289b777-dfe1-4cc6-95fa-c6f4678ab2cf",
   "metadata": {},
   "outputs": [],
   "source": [
    "matplotlib.rc('axes', labelsize=16)\n",
    "matplotlib.rc('figure', dpi=150, autolayout=True)"
   ]
  },
  {
   "cell_type": "markdown",
   "id": "df5c6e85-b3d2-437b-91f5-b0c139cf702e",
   "metadata": {},
   "source": [
    "## Dataset\n",
    "\n",
    "TODO: Load the real dataset"
   ]
  },
  {
   "cell_type": "code",
   "execution_count": 71,
   "id": "86f3f3a3-b94a-49d0-bdfe-af260aeb7b9f",
   "metadata": {},
   "outputs": [
    {
     "data": {
      "text/html": [
       "<div>\n",
       "<style scoped>\n",
       "    .dataframe tbody tr th:only-of-type {\n",
       "        vertical-align: middle;\n",
       "    }\n",
       "\n",
       "    .dataframe tbody tr th {\n",
       "        vertical-align: top;\n",
       "    }\n",
       "\n",
       "    .dataframe thead th {\n",
       "        text-align: right;\n",
       "    }\n",
       "</style>\n",
       "<table border=\"1\" class=\"dataframe\">\n",
       "  <thead>\n",
       "    <tr style=\"text-align: right;\">\n",
       "      <th></th>\n",
       "      <th>MedInc</th>\n",
       "      <th>HouseAge</th>\n",
       "      <th>AveRooms</th>\n",
       "      <th>AveBedrms</th>\n",
       "      <th>Population</th>\n",
       "      <th>AveOccup</th>\n",
       "      <th>Latitude</th>\n",
       "      <th>Longitude</th>\n",
       "      <th>bias</th>\n",
       "      <th>price</th>\n",
       "    </tr>\n",
       "  </thead>\n",
       "  <tbody>\n",
       "    <tr>\n",
       "      <th>0</th>\n",
       "      <td>8.3252</td>\n",
       "      <td>41.0</td>\n",
       "      <td>6.984127</td>\n",
       "      <td>1.023810</td>\n",
       "      <td>322.0</td>\n",
       "      <td>2.555556</td>\n",
       "      <td>37.88</td>\n",
       "      <td>-122.23</td>\n",
       "      <td>1</td>\n",
       "      <td>4.526</td>\n",
       "    </tr>\n",
       "    <tr>\n",
       "      <th>1</th>\n",
       "      <td>8.3014</td>\n",
       "      <td>21.0</td>\n",
       "      <td>6.238137</td>\n",
       "      <td>0.971880</td>\n",
       "      <td>2401.0</td>\n",
       "      <td>2.109842</td>\n",
       "      <td>37.86</td>\n",
       "      <td>-122.22</td>\n",
       "      <td>1</td>\n",
       "      <td>3.585</td>\n",
       "    </tr>\n",
       "    <tr>\n",
       "      <th>2</th>\n",
       "      <td>7.2574</td>\n",
       "      <td>52.0</td>\n",
       "      <td>8.288136</td>\n",
       "      <td>1.073446</td>\n",
       "      <td>496.0</td>\n",
       "      <td>2.802260</td>\n",
       "      <td>37.85</td>\n",
       "      <td>-122.24</td>\n",
       "      <td>1</td>\n",
       "      <td>3.521</td>\n",
       "    </tr>\n",
       "    <tr>\n",
       "      <th>3</th>\n",
       "      <td>5.6431</td>\n",
       "      <td>52.0</td>\n",
       "      <td>5.817352</td>\n",
       "      <td>1.073059</td>\n",
       "      <td>558.0</td>\n",
       "      <td>2.547945</td>\n",
       "      <td>37.85</td>\n",
       "      <td>-122.25</td>\n",
       "      <td>1</td>\n",
       "      <td>3.413</td>\n",
       "    </tr>\n",
       "    <tr>\n",
       "      <th>4</th>\n",
       "      <td>3.8462</td>\n",
       "      <td>52.0</td>\n",
       "      <td>6.281853</td>\n",
       "      <td>1.081081</td>\n",
       "      <td>565.0</td>\n",
       "      <td>2.181467</td>\n",
       "      <td>37.85</td>\n",
       "      <td>-122.25</td>\n",
       "      <td>1</td>\n",
       "      <td>3.422</td>\n",
       "    </tr>\n",
       "    <tr>\n",
       "      <th>...</th>\n",
       "      <td>...</td>\n",
       "      <td>...</td>\n",
       "      <td>...</td>\n",
       "      <td>...</td>\n",
       "      <td>...</td>\n",
       "      <td>...</td>\n",
       "      <td>...</td>\n",
       "      <td>...</td>\n",
       "      <td>...</td>\n",
       "      <td>...</td>\n",
       "    </tr>\n",
       "    <tr>\n",
       "      <th>20635</th>\n",
       "      <td>1.5603</td>\n",
       "      <td>25.0</td>\n",
       "      <td>5.045455</td>\n",
       "      <td>1.133333</td>\n",
       "      <td>845.0</td>\n",
       "      <td>2.560606</td>\n",
       "      <td>39.48</td>\n",
       "      <td>-121.09</td>\n",
       "      <td>1</td>\n",
       "      <td>0.781</td>\n",
       "    </tr>\n",
       "    <tr>\n",
       "      <th>20636</th>\n",
       "      <td>2.5568</td>\n",
       "      <td>18.0</td>\n",
       "      <td>6.114035</td>\n",
       "      <td>1.315789</td>\n",
       "      <td>356.0</td>\n",
       "      <td>3.122807</td>\n",
       "      <td>39.49</td>\n",
       "      <td>-121.21</td>\n",
       "      <td>1</td>\n",
       "      <td>0.771</td>\n",
       "    </tr>\n",
       "    <tr>\n",
       "      <th>20637</th>\n",
       "      <td>1.7000</td>\n",
       "      <td>17.0</td>\n",
       "      <td>5.205543</td>\n",
       "      <td>1.120092</td>\n",
       "      <td>1007.0</td>\n",
       "      <td>2.325635</td>\n",
       "      <td>39.43</td>\n",
       "      <td>-121.22</td>\n",
       "      <td>1</td>\n",
       "      <td>0.923</td>\n",
       "    </tr>\n",
       "    <tr>\n",
       "      <th>20638</th>\n",
       "      <td>1.8672</td>\n",
       "      <td>18.0</td>\n",
       "      <td>5.329513</td>\n",
       "      <td>1.171920</td>\n",
       "      <td>741.0</td>\n",
       "      <td>2.123209</td>\n",
       "      <td>39.43</td>\n",
       "      <td>-121.32</td>\n",
       "      <td>1</td>\n",
       "      <td>0.847</td>\n",
       "    </tr>\n",
       "    <tr>\n",
       "      <th>20639</th>\n",
       "      <td>2.3886</td>\n",
       "      <td>16.0</td>\n",
       "      <td>5.254717</td>\n",
       "      <td>1.162264</td>\n",
       "      <td>1387.0</td>\n",
       "      <td>2.616981</td>\n",
       "      <td>39.37</td>\n",
       "      <td>-121.24</td>\n",
       "      <td>1</td>\n",
       "      <td>0.894</td>\n",
       "    </tr>\n",
       "  </tbody>\n",
       "</table>\n",
       "<p>20640 rows × 10 columns</p>\n",
       "</div>"
      ],
      "text/plain": [
       "       MedInc  HouseAge  AveRooms  AveBedrms  Population  AveOccup  Latitude  \\\n",
       "0      8.3252      41.0  6.984127   1.023810       322.0  2.555556     37.88   \n",
       "1      8.3014      21.0  6.238137   0.971880      2401.0  2.109842     37.86   \n",
       "2      7.2574      52.0  8.288136   1.073446       496.0  2.802260     37.85   \n",
       "3      5.6431      52.0  5.817352   1.073059       558.0  2.547945     37.85   \n",
       "4      3.8462      52.0  6.281853   1.081081       565.0  2.181467     37.85   \n",
       "...       ...       ...       ...        ...         ...       ...       ...   \n",
       "20635  1.5603      25.0  5.045455   1.133333       845.0  2.560606     39.48   \n",
       "20636  2.5568      18.0  6.114035   1.315789       356.0  3.122807     39.49   \n",
       "20637  1.7000      17.0  5.205543   1.120092      1007.0  2.325635     39.43   \n",
       "20638  1.8672      18.0  5.329513   1.171920       741.0  2.123209     39.43   \n",
       "20639  2.3886      16.0  5.254717   1.162264      1387.0  2.616981     39.37   \n",
       "\n",
       "       Longitude  bias  price  \n",
       "0        -122.23     1  4.526  \n",
       "1        -122.22     1  3.585  \n",
       "2        -122.24     1  3.521  \n",
       "3        -122.25     1  3.413  \n",
       "4        -122.25     1  3.422  \n",
       "...          ...   ...    ...  \n",
       "20635    -121.09     1  0.781  \n",
       "20636    -121.21     1  0.771  \n",
       "20637    -121.22     1  0.923  \n",
       "20638    -121.32     1  0.847  \n",
       "20639    -121.24     1  0.894  \n",
       "\n",
       "[20640 rows x 10 columns]"
      ]
     },
     "execution_count": 71,
     "metadata": {},
     "output_type": "execute_result"
    }
   ],
   "source": [
    "from sklearn.datasets import fetch_california_housing\n",
    "housing = fetch_california_housing(as_frame=True)\n",
    "df = pd.DataFrame(data=housing.data, columns=housing.feature_names)\n",
    "df['bias'] = 1\n",
    "df['price'] = housing.target\n",
    "df"
   ]
  },
  {
   "cell_type": "code",
   "execution_count": 98,
   "id": "1ae9f91b-0035-409f-8b35-2e9f6b322498",
   "metadata": {},
   "outputs": [
    {
     "name": "stdout",
     "output_type": "stream",
     "text": [
      "X is (20640, 3), y is (20640,)\n"
     ]
    }
   ],
   "source": [
    "X = df[['bias', 'AveRooms', 'AveBedrms']].values\n",
    "y = df.price.values\n",
    "print(f\"X is {X.shape}, y is {y.shape}\")"
   ]
  },
  {
   "cell_type": "code",
   "execution_count": 99,
   "id": "e879359e-af41-47bc-b70b-67c9f8cf1af4",
   "metadata": {},
   "outputs": [
    {
     "name": "stdout",
     "output_type": "stream",
     "text": [
      "20,640 samples, 3 features\n"
     ]
    }
   ],
   "source": [
    "m = y.shape[0]\n",
    "n = X.shape[1]\n",
    "print(f\"{m:,} samples, {n} features\")"
   ]
  },
  {
   "cell_type": "code",
   "execution_count": 116,
   "id": "b6eb6cac-0f60-4703-bba3-84a8f3e73300",
   "metadata": {},
   "outputs": [],
   "source": [
    "def GetCost(X, y, w):\n",
    "    # Using MSE (Mean Squared Error) with the 1/2 factor for clean derivatives\n",
    "    predictions = np.matmul(X,  w)\n",
    "    errors = predictions - y\n",
    "    return sum(np.square(errors)) / (2 * len(y))"
   ]
  },
  {
   "cell_type": "code",
   "execution_count": 115,
   "id": "8f34d6fb-184a-4e12-80f8-145922637c7b",
   "metadata": {},
   "outputs": [],
   "source": [
    "def GradientDescent(X, y, w, alpha, iterations):\n",
    "    history = []\n",
    "    for index in range(iterations):\n",
    "        # Our predictions are just the product of our samples X times our weight vector\n",
    "        predictions = np.matmul(X, w)\n",
    "        # Our errors are the difference between our predictions and our truth values y\n",
    "        errors = predictions - y\n",
    "        # The gradient vector is the Jacobian matrix derivative of our cost\n",
    "        # function with respect to the weights.  This comes out to the transpose\n",
    "        # of X (n x m) times the errors (m x 1) to get an n x 1 vector that we\n",
    "        # then scale down by the number of samples m.\n",
    "        gradient = (1 / len(y)) * np.matmul(X.T, errors)\n",
    "        # Change the weights by the learning rate alpha times the gradient\n",
    "        w = w - alpha * gradient\n",
    "        # Determine the new cost\n",
    "        cost = GetCost(X, y, w)\n",
    "        # Keep track of the cost history so we can plot the progress of the algorithm\n",
    "        history.append(cost)\n",
    "    # Return the final weights and the cost history\n",
    "    return w, history"
   ]
  },
  {
   "cell_type": "code",
   "execution_count": 117,
   "id": "ae009762-95a4-4582-be75-f81da520aa3f",
   "metadata": {},
   "outputs": [],
   "source": [
    "# Execute our algorithm starting with random weights, a learning rate of 0.01, and iterating 1000 times\n",
    "w, history = GradientDescent(X, y, np.random.rand(n), 0.01, 1000)"
   ]
  },
  {
   "cell_type": "code",
   "execution_count": 119,
   "id": "6c1fef42-402e-44c8-9063-363e544224ba",
   "metadata": {},
   "outputs": [
    {
     "name": "stdout",
     "output_type": "stream",
     "text": [
      "Final weights: [ 1.37068562  0.13861639 -0.10325765]\n"
     ]
    }
   ],
   "source": [
    "print(f\"Final weights: {w}\")"
   ]
  },
  {
   "cell_type": "code",
   "execution_count": 113,
   "id": "83739cc4-1fad-4231-996e-8288b59a0bf9",
   "metadata": {},
   "outputs": [
    {
     "data": {
      "text/plain": [
       "[np.float64(1.008199472555868),\n",
       " np.float64(0.8794192217735854),\n",
       " np.float64(0.8293712967487973),\n",
       " np.float64(0.8097959847385631),\n",
       " np.float64(0.8020150640957192),\n",
       " np.float64(0.7987993994609405),\n",
       " np.float64(0.7973510579610879),\n",
       " np.float64(0.7965871392595496),\n",
       " np.float64(0.7960885214454891),\n",
       " np.float64(0.79569298840585)]"
      ]
     },
     "execution_count": 113,
     "metadata": {},
     "output_type": "execute_result"
    }
   ],
   "source": [
    "history[:10]"
   ]
  },
  {
   "cell_type": "code",
   "execution_count": 120,
   "id": "80f3afd4-1e44-4040-98d4-46e8587919f7",
   "metadata": {},
   "outputs": [
    {
     "name": "stdout",
     "output_type": "stream",
     "text": [
      "Predicted 2.2330839179266744, actual 4.526\n"
     ]
    }
   ],
   "source": [
    "# Show a predicted price to see how much we are in the ballbark\n",
    "print(f\"Predicted {np.matmul(X[0], w)}, actual {y[0]}\")"
   ]
  },
  {
   "cell_type": "code",
   "execution_count": 125,
   "id": "b59b71e5-fe17-46bf-b403-71002df30e59",
   "metadata": {},
   "outputs": [
    {
     "name": "stdout",
     "output_type": "stream",
     "text": [
      "Linear Regression parameters: [ 2.01051376  0.31729619 -1.51782097]\n"
     ]
    }
   ],
   "source": [
    "model = LinearRegression(fit_intercept=False, n_jobs=-1)\n",
    "model.fit(X, y)\n",
    "print(f\"Linear Regression parameters: {model.coef_}\")"
   ]
  },
  {
   "cell_type": "code",
   "execution_count": 128,
   "id": "c26f06ed-0657-46be-a681-307d5a5cd218",
   "metadata": {},
   "outputs": [
    {
     "name": "stdout",
     "output_type": "stream",
     "text": [
      "Predicted 2.6725910960546946, actual 4.526\n"
     ]
    }
   ],
   "source": [
    "pred = model.predict(X)\n",
    "print(f\"Predicted {pred[0]}, actual {y[0]}\")"
   ]
  },
  {
   "cell_type": "code",
   "execution_count": null,
   "id": "5dec9f41-2e5b-44ac-87dc-1fb1c59bd126",
   "metadata": {},
   "outputs": [],
   "source": []
  }
 ],
 "metadata": {
  "kernelspec": {
   "display_name": "Python 3 (ipykernel)",
   "language": "python",
   "name": "python3"
  },
  "language_info": {
   "codemirror_mode": {
    "name": "ipython",
    "version": 3
   },
   "file_extension": ".py",
   "mimetype": "text/x-python",
   "name": "python",
   "nbconvert_exporter": "python",
   "pygments_lexer": "ipython3",
   "version": "3.12.5"
  }
 },
 "nbformat": 4,
 "nbformat_minor": 5
}
